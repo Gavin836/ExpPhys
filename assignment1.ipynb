{
 "cells": [
  {
   "cell_type": "markdown",
   "metadata": {
    "collapsed": true
   },
   "source": [
    "# Assignment 1\n",
    "\n",
    "The purpose of this assignment - worth 10% of your mark for PHYS3112 - is to use a computer to explore the physics of coupled pendula.\n",
    "\n",
    "The assignment should be presented as a Jupyter notebook, and attached to an email to Michael Ashley m.ashley@unsw.edu.au *by the end of week 6* (let's say Sunday 15 April), with subject \"`PHYS3112 assignment`\".\n",
    "\n",
    "Please execute all the cells in your notebook before emailing it (so that the output from programs will appear).\n",
    "\n",
    "OK, on to the assignment itself...\n",
    "\n",
    "### The assignment\n",
    "\n",
    "*Important note:* the equations do not always render correctly using the github website, so you must download the assignment to your computer and display it locally while running the Jupyter notebook.\n",
    "\n",
    "In the case of two pendula, with symbols defined as per the lab notes, we have to solve two coupled 2nd order ODEs (please check these to make sure they are right):\n",
    "\n",
    "$$\\begin{align}\n",
    "mL^2\\ddot{\\phi_1}+mgL\\phi_1&=-kl^2(\\phi_1-\\phi_2)\\\\\n",
    "mL^2\\ddot{\\phi_2}+mgL\\phi_2&=+kl^2(\\phi_1-\\phi_2)\n",
    "\\end{align}$$\n",
    "\n",
    "Your first task is to write these as four coupled 1st order ODEs, involving four dependent variables, using the techniques that we learned in lectures. Next, in preparation for calling `scipy.integrate.odeint`, write a function to take these four dependent variables, and return their derivatives. Next, solve the ODEs using `odeint` and plot the behaviour.\n",
    "\n",
    "Verify the correctness of your program by comparing it with your lab results.\n",
    "\n",
    "The rest of the assignment is up to you. The basic idea is to produce a logical notebook that explores coupled pendula. You can achieve a passing mark by doing little more than what is described above, but to do better you will have to go beyond the basics. How you do that is up to you! This is designed to mimic how science is done: when you write a scientific paper you aren't answering someone else's questions, you are coming up with your own questions and answering them.\n",
    "\n",
    "Good luck!\n",
    "\n",
    "\n"
   ]
  },
  {
   "cell_type": "markdown",
   "metadata": {
    "collapsed": true
   },
   "source": [
    "# Histogram of the marks from 2017\n",
    "\n",
    "Here are the assignment marks from 2017. There were 41 assignments submitted. They were marked out of 100%. The histogram is binned every 5%.\n",
    "\n",
    "![](http://mcba11.phys.unsw.edu.au/~mcba/phys3112/hist.png)"
   ]
  }
 ],
 "metadata": {
  "anaconda-cloud": {},
  "kernelspec": {
   "display_name": "Python [conda root]",
   "language": "python",
   "name": "conda-root-py"
  },
  "language_info": {
   "codemirror_mode": {
    "name": "ipython",
    "version": 3
   },
   "file_extension": ".py",
   "mimetype": "text/x-python",
   "name": "python",
   "nbconvert_exporter": "python",
   "pygments_lexer": "ipython3",
   "version": "3.5.2"
  }
 },
 "nbformat": 4,
 "nbformat_minor": 1
}
