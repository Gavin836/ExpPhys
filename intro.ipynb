{
 "cells": [
  {
   "cell_type": "markdown",
   "metadata": {},
   "source": [
    "# Introducing Python and Jupyter Notebook\n",
    "\n",
    "What you are reading now is an example of a Jupyter Notebook. The basic concept is that of a \"notebook\" containing text and programming code. You can easily edit the notebook using your web browser. You can run the programs in the notebook and see the output of the programs within the notebook. This is a powerful paradigm that is well suited to physics research, particularly when collaborating with other people.\n",
    "\n",
    "\"Cells\" in a Jupyter Notebook are rectangular areas on the page that contain either text (such as this cell) or Python code (such as the simple examples in the following few cells).\n",
    "\n",
    "Text cells can be edited by double-clicking anywhere within the cell. Code cells can be edited by single clicking anywhere within the cell. You can also put text into a code cell as a comment (i.e., part of a program that is ignored by the computer when running it) by starting the line with the hash character: #. Actually, the hash can appear anywhere on a line, and the text following it until the end of the line is ignored by the computer.\n",
    "\n",
    "Pressing shift-ENTER within a text cell will display the text. Pressing shift-ENTER within a code cell with execute the Python code, and display any output in yout web browser, immediately below the cell.\n",
    "\n",
    "## The following cells show Python being used as a calculator\n"
   ]
  },
  {
   "cell_type": "code",
   "execution_count": 1,
   "metadata": {
    "collapsed": false
   },
   "outputs": [
    {
     "data": {
      "text/plain": [
       "2"
      ]
     },
     "execution_count": 1,
     "metadata": {},
     "output_type": "execute_result"
    }
   ],
   "source": [
    "# Lines starting with a hash are called comments. You can use them\n",
    "# to explain (to a human) the operation of your code.\n",
    "\n",
    "# Python will print the result of whatever you type into \n",
    "# a code cell. Python can do simple mathematics, e.g.,:\n",
    "\n",
    "1 + 1"
   ]
  },
  {
   "cell_type": "code",
   "execution_count": 2,
   "metadata": {
    "collapsed": false,
    "scrolled": true
   },
   "outputs": [
    {
     "data": {
      "text/plain": [
       "0.14285714285714285"
      ]
     },
     "execution_count": 2,
     "metadata": {},
     "output_type": "execute_result"
    }
   ],
   "source": [
    "# Here we are assigning an intermediate result to a \n",
    "# variable \"a\". This variable will be available in later\n",
    "# cells, provided this cell has been run by pressing shift-ENTER.\n",
    "\n",
    "a = 1 / 7\n",
    "a"
   ]
  },
  {
   "cell_type": "markdown",
   "metadata": {},
   "source": [
    "Note that you have to be careful with integer division. Python version 3 and above will give you a floating-point result, whereas earlier versions remove the decimals (so 1/7 becomes 0, as does 6/7). If you want this so-called \"floor division\" in Python 3, use the \"//\" operator."
   ]
  },
  {
   "cell_type": "code",
   "execution_count": 3,
   "metadata": {
    "collapsed": false
   },
   "outputs": [
    {
     "data": {
      "text/plain": [
       "0"
      ]
     },
     "execution_count": 3,
     "metadata": {},
     "output_type": "execute_result"
    }
   ],
   "source": [
    "# Floor division removes the numbers after the decimal point.\n",
    "\n",
    "1 // 7"
   ]
  },
  {
   "cell_type": "code",
   "execution_count": 4,
   "metadata": {
    "collapsed": false
   },
   "outputs": [
    {
     "data": {
      "text/plain": [
       "1"
      ]
     },
     "execution_count": 4,
     "metadata": {},
     "output_type": "execute_result"
    }
   ],
   "source": [
    "# Modulo division gives the remainder.\n",
    "\n",
    "8 % 7"
   ]
  },
  {
   "cell_type": "code",
   "execution_count": 5,
   "metadata": {
    "collapsed": false
   },
   "outputs": [
    {
     "data": {
      "text/plain": [
       "32"
      ]
     },
     "execution_count": 5,
     "metadata": {},
     "output_type": "execute_result"
    }
   ],
   "source": [
    "# Exponents.\n",
    "\n",
    "2**5"
   ]
  },
  {
   "cell_type": "code",
   "execution_count": 6,
   "metadata": {
    "collapsed": false
   },
   "outputs": [
    {
     "data": {
      "text/plain": [
       "0.031"
      ]
     },
     "execution_count": 6,
     "metadata": {},
     "output_type": "execute_result"
    }
   ],
   "source": [
    "# Scientific notation.\n",
    "\n",
    "3.1E-2"
   ]
  },
  {
   "cell_type": "markdown",
   "metadata": {},
   "source": [
    "Let's investigate Python's floating-point precision, i.e., how many decimal digits it carries in calculations. One way to do this is to perform calculations such $(\\sqrt 2)^2-2$, or $(\\sin(2\\pi/3))^2-0.75$, the answers to which should be exactly zero. The reciprocal of the answers to these calculations will be approximately the number of digits of precision."
   ]
  },
  {
   "cell_type": "code",
   "execution_count": 8,
   "metadata": {
    "collapsed": false
   },
   "outputs": [
    {
     "name": "stdout",
     "output_type": "stream",
     "text": [
      "4.440892098500626e-16\n",
      "1.11022302463e-16\n"
     ]
    }
   ],
   "source": [
    "import numpy as np   # We will explain this line later...\n",
    "\n",
    "print((2**0.5)**2 - 2)\n",
    "print((np.sin(np.pi*2/3))**2 - 0.75)"
   ]
  },
  {
   "cell_type": "markdown",
   "metadata": {},
   "source": [
    "Note that we used `print` statements above, since Jupyter notebook only displays the last result of a cell by default.  We could have left out the last `print`.\n",
    "\n",
    "Anyway, it looks like we have about 15 digits of floating-point precision, which is what you expect from an IEEE 64-bit floating-point number. I.e., if you have 64 binary bits available, then you can store a number with about 15 decimal digits of signed mantissa, and a few digits of signed exponent. Modern computers tend to work most naturally with 64-bits at a time.\n",
    "\n",
    "How about integer calculations? Are we limited to the largest integers that can be stored in 64-bits? Let's see:"
   ]
  },
  {
   "cell_type": "code",
   "execution_count": 9,
   "metadata": {
    "collapsed": false
   },
   "outputs": [
    {
     "data": {
      "text/plain": [
       "3908159226643238733174614283614836731126768107046341227250667472076853556843013838172049588691174330707818243450118448302812729951247321576513166624369426519566175521146060765081679976758041720679300544142578899999682218145590731711215852375861916259684264866953944533853780206232109689860956552348006732061695789938930646213944790078445226547509325302609329069445117085739611168420511100727807029960219755304683343928522835681236580544749345772997687789272005780505845692810279598474814928801575139205787258048513369093710961312514682075899525393917486191722044010992536554254433346757797401453317441157668323475117378300300675380311411783720892291860208840935427421876878495172143644788379083826461955232814452670024106634029782444314857725946984340662589552137681187058855370840678104158373102913142935322248166923135606488577076176786571072087787275721151671449698445547824376581179228842823243076579850082699440910879690172701654935338585419237394528910219466400398711390146945174827484382033620349117027739850870285498619302796390659011030983899571129475531951900699941995728715779973392015185546940934704246331341905671381265137758178677705185913030002603348040480378452842334938835344896384986472605870643265219489006098190067654108321170943392355400613564249445645639510323755781809289920764767965983067048457794256504910798982324928635401543742404992470685295256712710005713066462569470457811357440928814052826871480405082643768534413838217558052879567404685419337070919454165543913926254797535062175403291840282437565784510890527884282609693788352728845075427184666736270904718599967377231129340602704541090595660344392945021559935525438319887090353617135488670209943492849139965846896740313626495887105269676175557097165018916853148260794391708438199220888781289029685829505315773902138853990717604142885719601697094720405328129745119056694810317474513400330333517233611193133379954007384384395034058799871873253376"
      ]
     },
     "execution_count": 9,
     "metadata": {},
     "output_type": "execute_result"
    }
   ],
   "source": [
    "2**6400"
   ]
  },
  {
   "cell_type": "markdown",
   "metadata": {},
   "source": [
    "Wow, that it impressive! It looks like we have unlimited numbers of digits for integers. This is a huge advantage for some sorts of calculations. The downside will be that integer arithmetic is going to be much slower than if it was limited to 64 bits. Then again, if you really need exact integer arithmetic without overflows, Python is one of the few programming languages to provide it easily."
   ]
  },
  {
   "cell_type": "code",
   "execution_count": 10,
   "metadata": {
    "collapsed": false
   },
   "outputs": [
    {
     "data": {
      "text/plain": [
       "True"
      ]
     },
     "execution_count": 10,
     "metadata": {},
     "output_type": "execute_result"
    }
   ],
   "source": [
    "# Python will also evaluate logical statements.\n",
    "\n",
    "1 == 1"
   ]
  },
  {
   "cell_type": "code",
   "execution_count": 11,
   "metadata": {
    "collapsed": false
   },
   "outputs": [
    {
     "data": {
      "text/plain": [
       "False"
      ]
     },
     "execution_count": 11,
     "metadata": {},
     "output_type": "execute_result"
    }
   ],
   "source": [
    "1 > 2"
   ]
  },
  {
   "cell_type": "code",
   "execution_count": 12,
   "metadata": {
    "collapsed": false
   },
   "outputs": [
    {
     "name": "stdout",
     "output_type": "stream",
     "text": [
      "b is greater than five\n"
     ]
    }
   ],
   "source": [
    "# You can use logical operators in if/else statements:\n",
    "\n",
    "b = 8\n",
    "if b > 5:\n",
    "    print('b is greater than five')\n",
    "else:\n",
    "    print('b is less than five')"
   ]
  },
  {
   "cell_type": "code",
   "execution_count": 13,
   "metadata": {
    "collapsed": false
   },
   "outputs": [
    {
     "data": {
      "text/plain": [
       "True"
      ]
     },
     "execution_count": 13,
     "metadata": {},
     "output_type": "execute_result"
    }
   ],
   "source": [
    "# The following expression uses all the available\n",
    "# logical operators (and, or, not).\n",
    "# Parenthesis are useful to make the meaning of complicated\n",
    "# logical expressions clear.\n",
    "\n",
    "((1 < 2) and (2 <= 2) and (1 != 2)) or (2 > 1) or not (2 == 2)"
   ]
  },
  {
   "cell_type": "markdown",
   "metadata": {},
   "source": [
    "## Case sensitivity\n",
    "\n",
    "Python cares whether letters are capitalised. The variables we have used so-far are called 'a' and 'b'. Note that 'A' and 'B' are entirely different (currently not defined) variables. If you want to read in a file called 'flight_variables.txt' but you ask for 'Flight_Variables.txt', it will not find your file.\n",
    "\n",
    "See what happens when you run the next cell, when 'A' is not defined."
   ]
  },
  {
   "cell_type": "code",
   "execution_count": 14,
   "metadata": {
    "collapsed": false
   },
   "outputs": [
    {
     "ename": "NameError",
     "evalue": "name 'A' is not defined",
     "output_type": "error",
     "traceback": [
      "\u001b[0;31m---------------------------------------------------------------------------\u001b[0m",
      "\u001b[0;31mNameError\u001b[0m                                 Traceback (most recent call last)",
      "\u001b[0;32m<ipython-input-14-bf072e911907>\u001b[0m in \u001b[0;36m<module>\u001b[0;34m()\u001b[0m\n\u001b[0;32m----> 1\u001b[0;31m \u001b[0mA\u001b[0m\u001b[1;33m\u001b[0m\u001b[0m\n\u001b[0m",
      "\u001b[0;31mNameError\u001b[0m: name 'A' is not defined"
     ]
    }
   ],
   "source": [
    "A"
   ]
  },
  {
   "cell_type": "markdown",
   "metadata": {},
   "source": [
    "## Libraries\n",
    "\n",
    "When you first start up Python, it will already have quite a large number of tools available. Its *standard library* of functions is pretty large.\n",
    "\n",
    "However, there are a number of mathematical operations and data types that are important for working with data that are not part of the standard library. These were installed as part of Anaconda, and once you *import* them, you can use them.\n",
    "\n",
    "Some libraries have sub-libraries for specific purposes, and you can import just the sub-library if that's all you want.\n",
    "\n",
    "It is good style to do all of your imports in one cell at the start of your notebook."
   ]
  },
  {
   "cell_type": "markdown",
   "metadata": {},
   "source": [
    "# Importing libraries works like this\n",
    "\n",
    "If you want the whole library to be directly available:"
   ]
  },
  {
   "cell_type": "code",
   "execution_count": 15,
   "metadata": {
    "collapsed": true
   },
   "outputs": [],
   "source": [
    "# pandas is a very useful library of data analysis tools.\n",
    "\n",
    "import pandas"
   ]
  },
  {
   "cell_type": "markdown",
   "metadata": {},
   "source": [
    "To avoid lots of typing, you can modify the name of the imported functions, e.g., after the following example we can refer to np.pi rather than numpy.pi."
   ]
  },
  {
   "cell_type": "code",
   "execution_count": 16,
   "metadata": {
    "collapsed": true
   },
   "outputs": [],
   "source": [
    "# numpy is an essential set of mathematical tools, we will be\n",
    "# using it in almost every program in this course.\n",
    "\n",
    "import numpy as np"
   ]
  },
  {
   "cell_type": "code",
   "execution_count": 17,
   "metadata": {
    "collapsed": false
   },
   "outputs": [
    {
     "name": "stdout",
     "output_type": "stream",
     "text": [
      "3.141592653589793 0.866025403784 5.0\n"
     ]
    }
   ],
   "source": [
    "# The routines in numpy can now be accessed like this, rather\n",
    "# than having to type \"numpy\" each time:\n",
    "\n",
    "print(np.pi, np.abs(np.sin(np.pi/3)), np.mean([1,3,5,7,9]))"
   ]
  },
  {
   "cell_type": "markdown",
   "metadata": {},
   "source": [
    "And if you're not sure what routines are available in numpy, or what the one you want is called, Jupyter will show you a list if you type 'np.' and then press the tab key (this is true for all libraries, not just numpy). NOTE: you must have executed the earlier `import numpy as np` cell for this to work here."
   ]
  },
  {
   "cell_type": "code",
   "execution_count": null,
   "metadata": {
    "collapsed": false
   },
   "outputs": [],
   "source": [
    "np."
   ]
  },
  {
   "cell_type": "markdown",
   "metadata": {},
   "source": [
    "You can also import just a sub-library if that is all that you need:"
   ]
  },
  {
   "cell_type": "code",
   "execution_count": 18,
   "metadata": {
    "collapsed": true
   },
   "outputs": [],
   "source": [
    "import matplotlib.pyplot as plt\n",
    "\n",
    "# (matplotlib.pyplot is the library you need for almost\n",
    "# all plots and figures. It has nearly endless options).\n",
    "\n",
    "%matplotlib inline\n",
    "\n",
    "# The above command makes your matplotpib.pyplot figures\n",
    "# show up in your notebook, which is generally what you want.\n",
    "# Another approach is to say:\n",
    "\n",
    "# Uncomment the next line to activate notebook mode.\n",
    "\n",
    "#%matplotlib notebook  \n",
    "\n",
    "# This makes the plots interactive, i.e., you can pan, zoom\n",
    "# and scale them within the browser. Click on \"stop interaction\"\n",
    "# when you have finished."
   ]
  },
  {
   "cell_type": "markdown",
   "metadata": {},
   "source": [
    "## Important note: restarting the Python notebook kernel\n",
    "\n",
    "Sometimes Python notebook has a glitch and doesn't work as you might expect. This happened to us in lectures when uncommenting the above `%matplotlib notebook` line didn't work. The solution is to restart the kernel using `Kernel -> Restart` from the menu bar. After doing this you will have to re-run any previous cells that you are dependent on (e.g., `import numpy` statments)."
   ]
  },
  {
   "cell_type": "code",
   "execution_count": 19,
   "metadata": {
    "collapsed": false
   },
   "outputs": [
    {
     "data": {
      "text/plain": [
       "[<matplotlib.lines.Line2D at 0x1a1963f00b8>]"
      ]
     },
     "execution_count": 19,
     "metadata": {},
     "output_type": "execute_result"
    },
    {
     "data": {
      "image/png": "[encoded data removed]",
      "text/plain": [
       "<matplotlib.figure.Figure at 0x1a196327710>"
      ]
     },
     "metadata": {},
     "output_type": "display_data"
    }
   ],
   "source": [
    "# Now try plotting 5 points.\n",
    "\n",
    "plt.plot([1,3,5,7,9],[1,9,25,49,81])"
   ]
  },
  {
   "cell_type": "markdown",
   "metadata": {},
   "source": [
    "# Using \"Markdown\" to enter text and equations\n",
    "\n",
    "Text cells, such as this one, contain normal text such as the words in this sentence, with a few non-alphabetic characters used for special formating such as headings, italics, dot points, and mathematics. \n",
    "\n",
    "The special formatting is called \"Markdown\", and is widely used throughout the internet. Markdown is sufficiently rich in features that you can produce fairly reasonable documents with it.\n",
    "\n",
    "Double-click somewhere in this cell to see the Markdown source for the cell. You can then press CTRL-ENTER to process the Markdown into displayed text.\n",
    "\n",
    "Here are some examples of Markdown:\n",
    "\n",
    "# To create a big heading, begin the line with a single hash\n",
    "\n",
    "## More hashes produce \n",
    "\n",
    "### smaller\n",
    "\n",
    "#### and smaller headings\n",
    "\n",
    "* a dot point starts with an asterisk\n",
    "* here is another dot point\n",
    "* **bold text is delimited by double asterisks** like `**this**`\n",
    "* *Italic text uses single asterisks*\n",
    "* **_bold italic_ is delimited by underscores within double asterisks** like `**_this_**`\n",
    "* `monospaced font` is done using backticks\n",
    "\n",
    "Here is some in-line LaTeX for mathematics: $\\pi\\approx3.14159$\n",
    "\n",
    "```\n",
    "If you want a block of text to appear verbatim with a monospaced\n",
    "font, enclose the text with lines containing triple opening single quotes.\n",
    "Note that Markdown processing is suspended in verbatim mode,\n",
    "so you can type $\\pi$ and **bold** and have them displayed without interpretation\n",
    "```\n",
    "\n",
    "Block quotes can be useful, as Richard Feynman said:\n",
    "\n",
    "> For a successful technology, reality must take precedence over public relations,\n",
    "> for Nature cannot be fooled.\n",
    "\n",
    "Hyperlinks are easy, e.g, here is [Michael Ashley's homepage](http://www.phys.unsw.edu.au/~mcba).\n",
    "\n",
    "An enumerated list:\n",
    "1. Uno\n",
    "2. Dos\n",
    "3. Tres\n",
    "  1. Indent by two spaces\n",
    "  2. for this effect\n",
    "    1. And another two spaces\n",
    "    2. for another level of indentation\n",
    "    \n",
    "Here is the black body function as a equation on a separate line: $$b_\\nu={2h\\nu^3\\over{c^2}}{1\\over{\\exp\\bigl({h\\nu\\over{kT}}\\bigr)-1}}$$\n",
    "\n",
    "Images can be easily inserted too:\n",
    "\n",
    "![my image](http://www.phys.unsw.edu.au/~mcba/sfdsc06640.jpg)"
   ]
  },
  {
   "cell_type": "markdown",
   "metadata": {},
   "source": [
    "## Data types\n",
    "\n",
    "Python has a rich set of data types, suitable for different situations and purposes. The following cell shows examples of all of Python's built-in data types."
   ]
  },
  {
   "cell_type": "code",
   "execution_count": 20,
   "metadata": {
    "collapsed": false
   },
   "outputs": [
    {
     "name": "stdout",
     "output_type": "stream",
     "text": [
      "4 1.234 (2.4+6.8j) UNSW IS AN ACRONYM ['arbitrary content', (1.2+3.4j)] () 2 {(1, 2), 2, 'b', 'a'} True\n"
     ]
    }
   ],
   "source": [
    "# integers\n",
    "\n",
    "t = 4 \n",
    "\n",
    "# floating-point numbers\n",
    "\n",
    "a = 1.234 \n",
    "\n",
    "# complex numbers\n",
    "\n",
    "b = 1.2 + 3.4j \n",
    "\n",
    "# strings; immutable\n",
    "\n",
    "c = 'UNSW is an acronym'\n",
    "\n",
    "# lists of things; mutable ordered collections of arbitrary objects\n",
    "\n",
    "d = [1, 2, 3, ['arbitrary content', 1.2 + 3.4j]] \n",
    "\n",
    "# tuples; immutable ordered collections of arbitrary objects\n",
    "\n",
    "e = (1, 'red', 1.2 + 3.4j, {}) \n",
    "\n",
    "# dictionaries; mutable mappings from one \"hashable\" object to \n",
    "# another (with no concept of order)\n",
    "\n",
    "f = {'red' : 1, 'green' : 2, (1, 2) : 3} \n",
    "\n",
    "# sets; mutable unordered collections of unique and immutable objects\n",
    "\n",
    "g = {'a', 'b', 2, (1, 2)} \n",
    "\n",
    "print(t, a, b * 2, c.upper(), d[3], e[3:-1:-1], f['green'], g, 'b' in g)"
   ]
  },
  {
   "cell_type": "markdown",
   "metadata": {},
   "source": [
    "Note the concepts of an object being *mutable* (i.e., able to be changed), and *immutable* (can not be changed).\n",
    "\n",
    "Some data types can contain more than one object, in which case they are called *collections*. Collections may be *ordered* (i.e., can be uniquely indexed using the natural integers; this applies to *lists* and *tuples*), or not (e.g., *dictionaries* and *sets* do not have an order). While you might think that a \"dictionary\" should have an order (i.e., alphabetically sorted), the \"words\" in a Python dictionary can be immutable objects such as lists, which don't have an obvious way of deciding \"which comes first\".\n",
    "\n",
    "Finally, a *mapping* is the mathematical concept of associating one object with another (e.g., 'red' maps to 1 in the above example). In normal English-language usage, a \"dictionary\" maps words to their definitions."
   ]
  },
  {
   "cell_type": "code",
   "execution_count": 21,
   "metadata": {
    "collapsed": false
   },
   "outputs": [
    {
     "ename": "TypeError",
     "evalue": "'tuple' object does not support item assignment",
     "output_type": "error",
     "traceback": [
      "\u001b[0;31m---------------------------------------------------------------------------\u001b[0m",
      "\u001b[0;31mTypeError\u001b[0m                                 Traceback (most recent call last)",
      "\u001b[0;32m<ipython-input-21-9b7dc5e230ca>\u001b[0m in \u001b[0;36m<module>\u001b[0;34m()\u001b[0m\n\u001b[1;32m      2\u001b[0m \u001b[1;31m# Since tuples are immutable, this fails.\u001b[0m\u001b[1;33m\u001b[0m\u001b[1;33m\u001b[0m\u001b[0m\n\u001b[1;32m      3\u001b[0m \u001b[1;33m\u001b[0m\u001b[0m\n\u001b[0;32m----> 4\u001b[0;31m \u001b[0me\u001b[0m\u001b[1;33m[\u001b[0m\u001b[1;36m0\u001b[0m\u001b[1;33m]\u001b[0m \u001b[1;33m=\u001b[0m \u001b[1;36m1\u001b[0m\u001b[1;33m\u001b[0m\u001b[0m\n\u001b[0m",
      "\u001b[0;31mTypeError\u001b[0m: 'tuple' object does not support item assignment"
     ]
    }
   ],
   "source": [
    "# Here we try to alter the first object in the tuple \"e\".\n",
    "# Since tuples are immutable, this fails. \n",
    "\n",
    "e[0] = 1"
   ]
  },
  {
   "cell_type": "markdown",
   "metadata": {},
   "source": [
    "Why do we have immutable objects?\n",
    "\n",
    "They have some uses, e.g., it helps with program optimisation to know when some things can't change; dictionary keys have to be immutable (see the discussion after the next cell)."
   ]
  },
  {
   "cell_type": "code",
   "execution_count": 22,
   "metadata": {
    "collapsed": false
   },
   "outputs": [
    {
     "data": {
      "text/plain": [
       "{(1, 2): 3, 'green': 2, 'red': 3}"
      ]
     },
     "execution_count": 22,
     "metadata": {},
     "output_type": "execute_result"
    }
   ],
   "source": [
    "# Here we alter the mapping of 'red' in the dictionary \"f\". \n",
    "# This succeeds since dictionaries are mutable. Note that when\n",
    "# you display the value of \"f\", the order of the\n",
    "# mappings returned is not defined.\n",
    "\n",
    "f['red'] = 3\n",
    "f"
   ]
  },
  {
   "cell_type": "markdown",
   "metadata": {},
   "source": [
    "When creating a dictionary, the *keys* are the objects to the left of the colon, and the *values* are the objects to the right. E.g., `'red'` is a key, and `3` is its value. Note that keys have to be immutable objects (this is a requirement based on how dictionaries are stored for quick access), but values can be mutable.\n",
    "\n",
    "Sets in Python are like their mathematical namesakes. The order of elements is irrelevant, and you can't have multiple identical elements."
   ]
  },
  {
   "cell_type": "code",
   "execution_count": 23,
   "metadata": {
    "collapsed": false
   },
   "outputs": [
    {
     "name": "stdout",
     "output_type": "stream",
     "text": [
      "True\n",
      "False\n",
      "{1}\n"
     ]
    }
   ],
   "source": [
    "print({1, 'a'} == {'a', 1})  # Showing that the order of \n",
    "                             # elements is irrelevant\n",
    "print((1, 'a') == ('a', 1))  # Which isn't the case for tuples\n",
    "print({1,1,1}) # Showing that multiple identical elements are \n",
    "               # shortened to one"
   ]
  },
  {
   "cell_type": "markdown",
   "metadata": {},
   "source": [
    "## Arrays\n",
    "\n",
    "To construct one-dimensional or multi-dimensional arrays of numbers, you need to use a *function* such as np.array or np.ndarray:"
   ]
  },
  {
   "cell_type": "code",
   "execution_count": 26,
   "metadata": {
    "collapsed": false
   },
   "outputs": [
    {
     "data": {
      "text/plain": [
       "array([8, 7, 6, 5, 4, 3, 2])"
      ]
     },
     "execution_count": 26,
     "metadata": {},
     "output_type": "execute_result"
    }
   ],
   "source": [
    "# A 1D array.\n",
    "\n",
    "np.array([8,7,6,5,4,3,2])"
   ]
  },
  {
   "cell_type": "markdown",
   "metadata": {},
   "source": [
    "Try squaring the numbers in the array by adding `**2` at the end of the line above. What happens if you use `**100` instead? Next try changing the `8` to `8.0`. Can you explaing what is going on? "
   ]
  },
  {
   "cell_type": "code",
   "execution_count": 27,
   "metadata": {
    "collapsed": false
   },
   "outputs": [
    {
     "data": {
      "text/plain": [
       "array([[  1,   2,   3,   4,   5],\n",
       "       [  1,   4,   9,  16,  25],\n",
       "       [  1,  16,  81, 256, 525]])"
      ]
     },
     "execution_count": 27,
     "metadata": {},
     "output_type": "execute_result"
    }
   ],
   "source": [
    "# A 2D array.\n",
    "\n",
    "np.array([[1,2,3,4,5], [1,4,9,16,25], [1,16,81,256,525]])"
   ]
  },
  {
   "cell_type": "markdown",
   "metadata": {},
   "source": [
    "You can convert a list of numbers into a numpy array, which allows you to do mathematical operations on all the elements in the list at once:"
   ]
  },
  {
   "cell_type": "code",
   "execution_count": 28,
   "metadata": {
    "collapsed": false
   },
   "outputs": [
    {
     "name": "stdout",
     "output_type": "stream",
     "text": [
      "[17 13 11  7  5  3  2] [289 169 121  49  25   9   4]\n",
      "[ 0.05878961  0.07684724  0.09078392  0.14237173  0.19866933  0.3271947\n",
      "  0.47942554]\n"
     ]
    }
   ],
   "source": [
    "list = [17,13,11,7,5,3,2]  # Create a list of numbers\n",
    "arr = np.array(list)       # Convert the list to a numpy array\n",
    "print(arr, arr**2)         # Print the numbers and their squares\n",
    "print(np.sin(1.0/arr))     # Take the sine of the reciprocals of the numbers"
   ]
  },
  {
   "cell_type": "markdown",
   "metadata": {},
   "source": [
    "You can also generate an array of all zeroes, all ones, all integers from zero to n-1, or n points between two limits:"
   ]
  },
  {
   "cell_type": "code",
   "execution_count": 29,
   "metadata": {
    "collapsed": false
   },
   "outputs": [
    {
     "data": {
      "text/plain": [
       "array([[ 1.,  0.,  0.,  0.],\n",
       "       [ 0.,  1.,  0.,  0.],\n",
       "       [ 0.,  0.,  1.,  0.]])"
      ]
     },
     "execution_count": 29,
     "metadata": {},
     "output_type": "execute_result"
    }
   ],
   "source": [
    "# A 3x3 identity matrix.\n",
    "\n",
    "np.eye(3,4)"
   ]
  },
  {
   "cell_type": "code",
   "execution_count": 30,
   "metadata": {
    "collapsed": false
   },
   "outputs": [
    {
     "data": {
      "text/plain": [
       "array([[ 0.,  0.,  0.],\n",
       "       [ 0.,  0.,  0.]])"
      ]
     },
     "execution_count": 30,
     "metadata": {},
     "output_type": "execute_result"
    }
   ],
   "source": [
    "# A 2x3 array of zeroes.\n",
    "\n",
    "np.zeros((2,3))"
   ]
  },
  {
   "cell_type": "code",
   "execution_count": 31,
   "metadata": {
    "collapsed": false
   },
   "outputs": [
    {
     "data": {
      "text/plain": [
       "array([[ 1.,  1.],\n",
       "       [ 1.,  1.],\n",
       "       [ 1.,  1.],\n",
       "       [ 1.,  1.],\n",
       "       [ 1.,  1.]])"
      ]
     },
     "execution_count": 31,
     "metadata": {},
     "output_type": "execute_result"
    }
   ],
   "source": [
    "# A 5x2 array of ones.\n",
    "\n",
    "np.ones((5,2))"
   ]
  },
  {
   "cell_type": "code",
   "execution_count": 32,
   "metadata": {
    "collapsed": false
   },
   "outputs": [
    {
     "data": {
      "text/plain": [
       "array([0, 1, 2, 3, 4, 5, 6, 7, 8, 9])"
      ]
     },
     "execution_count": 32,
     "metadata": {},
     "output_type": "execute_result"
    }
   ],
   "source": [
    "# A 1D array of the intergers from 0 to 9.\n",
    "\n",
    "np.arange(10)"
   ]
  },
  {
   "cell_type": "code",
   "execution_count": 34,
   "metadata": {
    "collapsed": false
   },
   "outputs": [
    {
     "data": {
      "text/plain": [
       "array([ 30. ,  30.5,  31. ,  31.5,  32. ,  32.5,  33. ,  33.5,  34. ,\n",
       "        34.5,  35. ,  35.5,  36. ,  36.5,  37. ,  37.5,  38. ,  38.5,\n",
       "        39. ,  39.5,  40. ])"
      ]
     },
     "execution_count": 34,
     "metadata": {},
     "output_type": "execute_result"
    }
   ],
   "source": [
    "# A 1D array of 21 floating-point numbers linearly \n",
    "# spaced from 30 to 40.\n",
    "\n",
    "np.linspace(30.0, 40.0, 21)"
   ]
  },
  {
   "cell_type": "code",
   "execution_count": 35,
   "metadata": {
    "collapsed": false
   },
   "outputs": [
    {
     "data": {
      "text/plain": [
       "array([[ 1.36525371, -0.42980366,  0.36256546],\n",
       "       [-0.94685572,  2.29252617,  0.07269366],\n",
       "       [-0.12265722, -1.23356887,  1.663024  ]])"
      ]
     },
     "execution_count": 35,
     "metadata": {},
     "output_type": "execute_result"
    }
   ],
   "source": [
    "# A 3x3 array of normally distributed random numbers, \n",
    "# with mean 0.0 and standard deviation 1.0. This is a great\n",
    "# example of the power of Python.\n",
    "\n",
    "np.random.normal(0.0, 1.0, (3,3))"
   ]
  },
  {
   "cell_type": "markdown",
   "metadata": {},
   "source": [
    "## Indexing and slicing\n",
    "\n",
    "With ordered data types such as *lists* and *arrays*, you can retrieve subsets by their *index*, i.e., where they are in the list or array. Python indexing starts at zero. Some computer languages, e.g., FORTRAN, start at 1."
   ]
  },
  {
   "cell_type": "code",
   "execution_count": 36,
   "metadata": {
    "collapsed": false
   },
   "outputs": [
    {
     "data": {
      "text/plain": [
       "array([17, 13, 11,  7,  5,  3,  2])"
      ]
     },
     "execution_count": 36,
     "metadata": {},
     "output_type": "execute_result"
    }
   ],
   "source": [
    "# We begin with \"arr\" as defined above.\n",
    "\n",
    "arr"
   ]
  },
  {
   "cell_type": "code",
   "execution_count": 37,
   "metadata": {
    "collapsed": false
   },
   "outputs": [
    {
     "data": {
      "text/plain": [
       "17"
      ]
     },
     "execution_count": 37,
     "metadata": {},
     "output_type": "execute_result"
    }
   ],
   "source": [
    "# Element 0 is the first element in the array.\n",
    "\n",
    "arr[0]"
   ]
  },
  {
   "cell_type": "code",
   "execution_count": 38,
   "metadata": {
    "collapsed": false
   },
   "outputs": [
    {
     "data": {
      "text/plain": [
       "5"
      ]
     },
     "execution_count": 38,
     "metadata": {},
     "output_type": "execute_result"
    }
   ],
   "source": [
    "arr[4]"
   ]
  },
  {
   "cell_type": "code",
   "execution_count": 39,
   "metadata": {
    "collapsed": false
   },
   "outputs": [
    {
     "data": {
      "text/plain": [
       "2"
      ]
     },
     "execution_count": 39,
     "metadata": {},
     "output_type": "execute_result"
    }
   ],
   "source": [
    "# This gives you the last element.\n",
    "\n",
    "arr[-1]"
   ]
  },
  {
   "cell_type": "markdown",
   "metadata": {},
   "source": [
    "When you select a *range* of indices from i to j, using the range operator \":\", Python gives you back elements i through j-1:"
   ]
  },
  {
   "cell_type": "code",
   "execution_count": 40,
   "metadata": {
    "collapsed": false
   },
   "outputs": [
    {
     "data": {
      "text/plain": [
       "array([17])"
      ]
     },
     "execution_count": 40,
     "metadata": {},
     "output_type": "execute_result"
    }
   ],
   "source": [
    "# Square brackets are required for selecting a subset.\n",
    "\n",
    "arr[0:1]"
   ]
  },
  {
   "cell_type": "code",
   "execution_count": 41,
   "metadata": {
    "collapsed": false
   },
   "outputs": [
    {
     "data": {
      "text/plain": [
       "array([7, 5])"
      ]
     },
     "execution_count": 41,
     "metadata": {},
     "output_type": "execute_result"
    }
   ],
   "source": [
    "arr[3:5]"
   ]
  },
  {
   "cell_type": "markdown",
   "metadata": {},
   "source": [
    "If you want to select all the way to one end of the array, you can leave that part blank and Python will understand what you mean:"
   ]
  },
  {
   "cell_type": "code",
   "execution_count": 42,
   "metadata": {
    "collapsed": false
   },
   "outputs": [
    {
     "data": {
      "text/plain": [
       "array([11,  7,  5,  3,  2])"
      ]
     },
     "execution_count": 42,
     "metadata": {},
     "output_type": "execute_result"
    }
   ],
   "source": [
    "arr[2:]"
   ]
  },
  {
   "cell_type": "code",
   "execution_count": 43,
   "metadata": {
    "collapsed": false
   },
   "outputs": [
    {
     "data": {
      "text/plain": [
       "array([17, 13, 11,  7])"
      ]
     },
     "execution_count": 43,
     "metadata": {},
     "output_type": "execute_result"
    }
   ],
   "source": [
    "arr[:4]"
   ]
  },
  {
   "cell_type": "markdown",
   "metadata": {},
   "source": [
    "Selecting subsets works in multiple dimensions too:"
   ]
  },
  {
   "cell_type": "code",
   "execution_count": 44,
   "metadata": {
    "collapsed": false
   },
   "outputs": [
    {
     "data": {
      "text/plain": [
       "array([[0, 1, 2],\n",
       "       [3, 4, 5],\n",
       "       [6, 7, 8]])"
      ]
     },
     "execution_count": 44,
     "metadata": {},
     "output_type": "execute_result"
    }
   ],
   "source": [
    "arr2 = np.array([[0,1,2], [3,4,5], [6,7,8]])\n",
    "arr2"
   ]
  },
  {
   "cell_type": "code",
   "execution_count": 45,
   "metadata": {
    "collapsed": false
   },
   "outputs": [
    {
     "data": {
      "text/plain": [
       "array([0, 1, 2])"
      ]
     },
     "execution_count": 45,
     "metadata": {},
     "output_type": "execute_result"
    }
   ],
   "source": [
    "arr2[0,:]"
   ]
  },
  {
   "cell_type": "code",
   "execution_count": 46,
   "metadata": {
    "collapsed": false
   },
   "outputs": [
    {
     "data": {
      "text/plain": [
       "array([1, 4, 7])"
      ]
     },
     "execution_count": 46,
     "metadata": {},
     "output_type": "execute_result"
    }
   ],
   "source": [
    "arr2[:,1]"
   ]
  },
  {
   "cell_type": "code",
   "execution_count": 47,
   "metadata": {
    "collapsed": false
   },
   "outputs": [
    {
     "data": {
      "text/plain": [
       "array([7, 8])"
      ]
     },
     "execution_count": 47,
     "metadata": {},
     "output_type": "execute_result"
    }
   ],
   "source": [
    "arr2[2,1:4]"
   ]
  },
  {
   "cell_type": "markdown",
   "metadata": {},
   "source": [
    "## Loops\n",
    "\n",
    "If you want to re-run a piece of code while changing an input variable, a *for* loop is what you want. If you want to repeat a piece of code until a certain condition is met, use a *while* loop. Loops can be nested inside other loops."
   ]
  },
  {
   "cell_type": "markdown",
   "metadata": {},
   "source": [
    "## Indentation\n",
    "\n",
    "Python pays attention to how your code is indented. Indentation by a consistent number of spaces or tabs is required inside a loop or an *if* statement. Jupyter will automatically indent text after a line that begins with 'for', 'while', 'if', or 'else'. Returning to no indentation indicates that the loop or *if* statement is finished; there is no 'end if', 'fi', 'end for', or brackets as there are in most computer languages."
   ]
  },
  {
   "cell_type": "code",
   "execution_count": 48,
   "metadata": {
    "collapsed": false
   },
   "outputs": [
    {
     "name": "stdout",
     "output_type": "stream",
     "text": [
      "7\n",
      "10\n",
      "13\n",
      "16\n",
      "19\n",
      "22\n",
      "25\n",
      "28\n",
      "31\n",
      "34\n"
     ]
    }
   ],
   "source": [
    "for i in range(0,10):\n",
    "    h=(i*3)+7\n",
    "    print(h)"
   ]
  },
  {
   "cell_type": "markdown",
   "metadata": {},
   "source": [
    "Note that similarly to when we were selecting a subset, a *for* loop that starts with `for i in range(min,max):` goes from `i = min` to `i = max - 1`."
   ]
  },
  {
   "cell_type": "code",
   "execution_count": 49,
   "metadata": {
    "collapsed": false
   },
   "outputs": [
    {
     "name": "stdout",
     "output_type": "stream",
     "text": [
      "Betelgeuse is bright\n",
      "Sirius is very bright\n",
      "Canopus is bright\n",
      "Aldebaran is bright\n"
     ]
    }
   ],
   "source": [
    "starlist=['Betelgeuse', 'Sirius', 'Canopus', 'Aldebaran']\n",
    "for star in starlist:\n",
    "    if star == 'Sirius':\n",
    "        print(star, 'is very bright')\n",
    "    else:\n",
    "        print(star, 'is bright')"
   ]
  },
  {
   "cell_type": "markdown",
   "metadata": {},
   "source": [
    "Note that the above `for item in list:` syntax is different to the `for i in range(min,max):` syntax in the previous example. \"star\" didn't exist as a variable when we wrote `for star in starlist`, but Python recognizes the structure of the *for* loop and makes it work."
   ]
  },
  {
   "cell_type": "code",
   "execution_count": 50,
   "metadata": {
    "collapsed": false
   },
   "outputs": [
    {
     "name": "stdout",
     "output_type": "stream",
     "text": [
      "0\n",
      "4\n",
      "8\n",
      "12\n",
      "16\n",
      "20\n",
      "24\n"
     ]
    }
   ],
   "source": [
    "i = 0\n",
    "while np.sqrt(i) < 5:\n",
    "    print(i)\n",
    "    i = i + 4"
   ]
  },
  {
   "cell_type": "markdown",
   "metadata": {},
   "source": [
    "## Building lists with loops\n",
    "\n",
    "One of the handiest things we can do with a loop is to build a list one item at a time. That list can then be converted into a numpy array, so that you can perform mathematical operations on it."
   ]
  },
  {
   "cell_type": "code",
   "execution_count": 51,
   "metadata": {
    "collapsed": false
   },
   "outputs": [
    {
     "name": "stdout",
     "output_type": "stream",
     "text": [
      "[  1.44294105e+30   2.40590379e+39   2.68290992e+33   8.72890262e+33\n",
      "   9.47616965e+36   8.11654338e+37]\n"
     ]
    }
   ],
   "source": [
    "# Create an empty list called 'luminosity'\n",
    "\n",
    "luminosity = []\n",
    "\n",
    "# The Stefan-Boltzmann constant (in cgs unit)\n",
    "\n",
    "sigma = 5.6704E-5\n",
    "\n",
    "# This is our set of input values for temperature\n",
    "\n",
    "T = [3000.0, 3500.0, 4200.0, 5000.0, 6200.0, 7500.0]\n",
    "\n",
    "# This is our set of input values for radius (in cgs)\n",
    "\n",
    "r = [5.0E9, 1.5E14, 1.1E11, 1.4E11, 3.0E12, 6.0E12]\n",
    "\n",
    "# Now loop over every element in T\n",
    "\n",
    "for i in range(0,len(T)):\n",
    "    luminosity.append(4*np.pi*r[i]**2*sigma*T[i]**4)\n",
    "\n",
    "lumvec = np.array(luminosity)\n",
    "print(lumvec)\n",
    "\n",
    "# list.append() is a \"method\" that can be used on \n",
    "# any list - we will talk about methods more \n",
    "# in the demo notebook for Sarah Martell's Lecture 1."
   ]
  },
  {
   "cell_type": "markdown",
   "metadata": {},
   "source": [
    "## Here are some example calculations, loops and plots:\n",
    "\n",
    "The first one calculate the flux from a black body at a particular wavelength."
   ]
  },
  {
   "cell_type": "code",
   "execution_count": 52,
   "metadata": {
    "collapsed": false
   },
   "outputs": [
    {
     "name": "stdout",
     "output_type": "stream",
     "text": [
      "bb =  1.0336123927084526e-20  W m-2 sr-2 Hz-1\n",
      "bb =  24.29742342991191  uJy per sq arcsecond\n"
     ]
    }
   ],
   "source": [
    "import math\n",
    "import numpy as np\n",
    "\n",
    "# Fundamental constants, in SI units.\n",
    "\n",
    "planck = 6.626e-34\n",
    "boltzmann = 1.381e-23\n",
    "c = 2.998e8\n",
    "\n",
    "# Input variables.\n",
    "\n",
    "wavelength = 2.35e-6 # 2.35 microns, in the near infrared\n",
    "t = 273.15 - 60\n",
    "\n",
    "# Derived variables.\n",
    "\n",
    "nu = c / wavelength\n",
    "\n",
    "# The black-body formula.\n",
    "\n",
    "bb = (2 * planck * nu**3)/(c**2 * (math.exp((planck * nu)/(boltzmann * t)) - 1.0))\n",
    "\n",
    "print(\"bb = \", bb, \" W m-2 sr-2 Hz-1\")\n",
    "\n",
    "# Convert to \"radio astronomer's units\" using \n",
    "# 1 Jansky = 1E-26 W m-2 Hz-1, and noting that a\n",
    "# steradian is 4.254E10 square arcseconds.\n",
    "\n",
    "bb *= 1.0E6 / (4.254E10 * 1.0e-26)\n",
    "print(\"bb = \", bb, \" uJy per sq arcsecond\")\n"
   ]
  },
  {
   "cell_type": "markdown",
   "metadata": {},
   "source": [
    "Note that you must have executed the previous cell for the next one to work"
   ]
  },
  {
   "cell_type": "code",
   "execution_count": 54,
   "metadata": {
    "collapsed": false,
    "scrolled": true
   },
   "outputs": [
    {
     "data": {
      "image/png": "[encoded data removed]",
      "text/plain": [
       "<matplotlib.figure.Figure at 0x1a196e03048>"
      ]
     },
     "metadata": {},
     "output_type": "display_data"
    }
   ],
   "source": [
    "import matplotlib.pyplot as plt\n",
    "\n",
    "# Plot the planck function as a function of wavelength,\n",
    "# for a given temperature.\n",
    "\n",
    "t = 273.15 -60  # -60C\n",
    "wavelength = np.arange(2e-6, 200e-6, 0.1e-6) # from 2 to 200 microns\n",
    "\n",
    "#t = 273.15+ np.arange(-65, -12, 1)\n",
    "#wavelength = 2.4e-6\n",
    "\n",
    "nu = c / wavelength\n",
    "\n",
    "bb = (2 * planck * nu**3)/(c**2 * (np.exp((planck * nu)/(boltzmann * t)) - 1.0))\n",
    "\n",
    "plt.plot(wavelength, bb)\n",
    "plt.show()"
   ]
  },
  {
   "cell_type": "code",
   "execution_count": 55,
   "metadata": {
    "collapsed": false
   },
   "outputs": [
    {
     "name": "stdout",
     "output_type": "stream",
     "text": [
      "enter the number of steps (e.g., 100): 100\n"
     ]
    },
    {
     "data": {
      "image/png": "[encoded data removed]",
      "text/plain": [
       "<matplotlib.figure.Figure at 0x1a197e2e080>"
      ]
     },
     "metadata": {},
     "output_type": "display_data"
    }
   ],
   "source": [
    "# This example models (crudely) the temperature of the \n",
    "# earth as it reaches equilibrium with the radiation from the sun.\n",
    "\n",
    "import matplotlib.pyplot as plt\n",
    "\n",
    "nSteps = int(input(\"enter the number of steps (e.g., 100): \"))\n",
    "\n",
    "timeStep = 100           # years\n",
    "waterDepth = 4000        # meters\n",
    "L = 1350                 # Watts/m2\n",
    "heatCapacity = 1.6884E10 # J/K m2\n",
    "albedo = 0.3\n",
    "epsilon = 1\n",
    "sigma = 5.67E-8          # W/m2 K4\n",
    "\n",
    "time = [0]\n",
    "T = [0]\n",
    "heatContent = T[0] * heatCapacity\n",
    "\n",
    "for i in range(0, nSteps):\n",
    "    heatContent += (L * (1 - albedo) / 4 - epsilon * sigma * pow(T[-1], 4)) * timeStep * 365.25 * 24 * 3600\n",
    "    T.append(heatContent / heatCapacity)\n",
    "    time.append(time[-1] + timeStep)\n",
    "    heatOut = sigma * pow(T[-1], 4)\n",
    "\n",
    "#print(T[-1], heatOut)\n",
    "plt.plot(time, T)\n",
    "plt.show()"
   ]
  },
  {
   "cell_type": "markdown",
   "metadata": {
    "collapsed": true
   },
   "source": [
    "# Physical constants\n",
    "\n",
    "Every conceivable physical constant (including their value, units, and uncertainty!) is defined for you in a dictionary in scipy.constants. For example:"
   ]
  },
  {
   "cell_type": "code",
   "execution_count": 56,
   "metadata": {
    "collapsed": false
   },
   "outputs": [
    {
     "name": "stdout",
     "output_type": "stream",
     "text": [
      "(5.670367e-08, 'W m^-2 K^-4', 1.3e-13)\n",
      "(6.235380085e-65, 'C^4 m^4 J^-3', 7.7e-73)\n",
      "5.670367e-08\n",
      "6.67408e-11 5.670367e-08\n"
     ]
    }
   ],
   "source": [
    "import scipy.constants\n",
    "\n",
    "print(scipy.constants.physical_constants['Stefan-Boltzmann constant'])\n",
    "print(scipy.constants.physical_constants['atomic unit of 2nd hyperpolarizability'])\n",
    "\n",
    "# To extract the constant itself (without the units and uncertainty)\n",
    "# use the [0] index as follows:\n",
    "\n",
    "sigma = scipy.constants.physical_constants['Stefan-Boltzmann constant'][0]\n",
    "print(sigma)\n",
    "\n",
    "# Alternatively, many commonly used constants are also in scipy.constants.\n",
    "\n",
    "G = scipy.constants.G # the gravitational constant\n",
    "sigma = scipy.constants.Stefan_Boltzmann\n",
    "\n",
    "print(G, sigma)"
   ]
  },
  {
   "cell_type": "markdown",
   "metadata": {},
   "source": [
    "# 3D visualization\n",
    "\n",
    "The following cells show examples of 3D visualization using a package called vpython. To run these cells you need to have `vpython` installed. You can do this with\n",
    "\n",
    "`conda install -c vpython vpython`\n",
    "\n",
    "from the command line. When the cells are run, you can interact with the visualization by using a touchscreen, or right-click and move the mouse cursor. You can stop the program by using `Kernel->Restart`. Alternatively, you can type `ESC r` (where ESC is the escape key), and then `ESC y`."
   ]
  },
  {
   "cell_type": "code",
   "execution_count": null,
   "metadata": {
    "collapsed": false
   },
   "outputs": [],
   "source": [
    "# Example of a bouncing ball.\n",
    "\n",
    "from vpython import *\n",
    "scene = canvas()\n",
    "\n",
    "# Create a ball.\n",
    "\n",
    "ball = sphere(pos = vector(0,4,0), radius = 1, color = color.red)\n",
    "\n",
    "# Create a \"floor\" for the sphere to bounce off.\n",
    "\n",
    "floor = box(pos = vector(0,0,0), length = 4, \n",
    "            height = 0.25, width = 4, color = color.green)\n",
    "\n",
    "# Set the initial ball velocity, and the time increment.\n",
    "\n",
    "ball.velocity = vector(0, -1, 0)\n",
    "dt = 0.01\n",
    "\n",
    "# Loop forever, updating the ball's position and velocity.\n",
    "\n",
    "while True:\n",
    "    rate(100) # Maximum of 100 updates a second.\n",
    "    \n",
    "    ball.pos = ball.pos + ball.velocity * dt\n",
    "    \n",
    "    if ball.pos.y < ball.radius:\n",
    "        ball.velocity.y = abs(ball.velocity.y)\n",
    "    else:\n",
    "        ball.velocity.y = ball.velocity.y - 9.8 * dt\n",
    "        "
   ]
  },
  {
   "cell_type": "code",
   "execution_count": null,
   "metadata": {
    "collapsed": false
   },
   "outputs": [
    {
     "data": {
      "application/javascript": [
       "require.undef(\"nbextensions/vpython_libraries/glow.min\");"
      ],
      "text/plain": [
       "<IPython.core.display.Javascript object>"
      ]
     },
     "metadata": {},
     "output_type": "display_data"
    },
    {
     "data": {
      "application/javascript": [
       "require.undef(\"nbextensions/vpython_libraries/glowcomm\");"
      ],
      "text/plain": [
       "<IPython.core.display.Javascript object>"
      ]
     },
     "metadata": {},
     "output_type": "display_data"
    },
    {
     "data": {
      "application/javascript": [
       "require.undef(\"nbextensions/vpython_libraries/jquery-ui.custom.min\");"
      ],
      "text/plain": [
       "<IPython.core.display.Javascript object>"
      ]
     },
     "metadata": {},
     "output_type": "display_data"
    },
    {
     "data": {
      "application/javascript": [
       "require([\"nbextensions/vpython_libraries/glow.min\"], function(){console.log(\"GLOW LOADED\");})"
      ],
      "text/plain": [
       "<IPython.core.display.Javascript object>"
      ]
     },
     "metadata": {},
     "output_type": "display_data"
    },
    {
     "data": {
      "application/javascript": [
       "require([\"nbextensions/vpython_libraries/glowcomm\"], function(){console.log(\"GLOWCOMM LOADED\");})"
      ],
      "text/plain": [
       "<IPython.core.display.Javascript object>"
      ]
     },
     "metadata": {},
     "output_type": "display_data"
    },
    {
     "data": {
      "application/javascript": [
       "require([\"nbextensions/vpython_libraries/jquery-ui.custom.min\"], function(){console.log(\"JQUERY LOADED\");})"
      ],
      "text/plain": [
       "<IPython.core.display.Javascript object>"
      ]
     },
     "metadata": {},
     "output_type": "display_data"
    },
    {
     "data": {
      "text/html": [
       "<div id=\"glowscript\" class=\"glowscript\"></div>"
      ],
      "text/plain": [
       "<IPython.core.display.HTML object>"
      ]
     },
     "metadata": {},
     "output_type": "display_data"
    },
    {
     "data": {
      "application/javascript": [
       "window.__context = { glowscript_container: $(\"#glowscript\").removeAttr(\"id\")}"
      ],
      "text/plain": [
       "<IPython.core.display.Javascript object>"
      ]
     },
     "metadata": {},
     "output_type": "display_data"
    },
    {
     "data": {
      "text/html": [
       "<div id=\"glowscript\" class=\"glowscript\"></div>"
      ],
      "text/plain": [
       "<IPython.core.display.HTML object>"
      ]
     },
     "metadata": {},
     "output_type": "display_data"
    },
    {
     "data": {
      "application/javascript": [
       "window.__context = { glowscript_container: $(\"#glowscript\").removeAttr(\"id\")}"
      ],
      "text/plain": [
       "<IPython.core.display.Javascript object>"
      ]
     },
     "metadata": {},
     "output_type": "display_data"
    }
   ],
   "source": [
    "# Example of binary star orbits, from http://www.glowscript.org\n",
    "import scipy.constants\n",
    "from vpython import *\n",
    "scene = canvas()\n",
    "scene.forward = vector(0,-.3,-1)\n",
    "\n",
    "G = scipy.constants.physical_constants['Newtonian constant of gravitation'][0]\n",
    "\n",
    "# Define a giant star, and give its initial position, \n",
    "# radius, mass, and momentum.\n",
    "\n",
    "giant = sphere(pos = vector(-1e11,0,0), radius = 2e10, \n",
    "               color = color.red, make_trail = True, \n",
    "               trail_type = 'points', interval = 10, retain = 50)\n",
    "giant.mass = 2e30\n",
    "giant.p = vector(0, 0, -1e4) * giant.mass\n",
    "\n",
    "# Do the same for its companion star.\n",
    "\n",
    "dwarf = sphere(pos = vector(1.5e11,0,0), radius = 1e10, \n",
    "               color = color.yellow, make_trail = True, \n",
    "               interval = 10, retain = 50)\n",
    "dwarf.mass = 1e30\n",
    "dwarf.p = -giant.p\n",
    "\n",
    "dt = 1e5 # time increment per loop in seconds\n",
    "\n",
    "while True:\n",
    "    rate(200)\n",
    "    r = dwarf.pos - giant.pos # the relative position of the stars\n",
    "    F = G * giant.mass * dwarf.mass * r.hat / mag2(r) # the attractive force\n",
    "    giant.p = giant.p + F*dt # update the momenta, ensuring conservation\n",
    "    dwarf.p = dwarf.p - F*dt\n",
    "    giant.pos = giant.pos + (giant.p/giant.mass) * dt # update the positions\n",
    "    dwarf.pos = dwarf.pos + (dwarf.p/dwarf.mass) * dt"
   ]
  },
  {
   "cell_type": "code",
   "execution_count": null,
   "metadata": {
    "collapsed": true
   },
   "outputs": [],
   "source": []
  }
 ],
 "metadata": {
  "anaconda-cloud": {},
  "kernelspec": {
   "display_name": "Python [default]",
   "language": "python",
   "name": "python3"
  },
  "language_info": {
   "codemirror_mode": {
    "name": "ipython",
    "version": 3
   },
   "file_extension": ".py",
   "mimetype": "text/x-python",
   "name": "python",
   "nbconvert_exporter": "python",
   "pygments_lexer": "ipython3",
   "version": "3.5.2"
  }
 },
 "nbformat": 4,
 "nbformat_minor": 0
}
