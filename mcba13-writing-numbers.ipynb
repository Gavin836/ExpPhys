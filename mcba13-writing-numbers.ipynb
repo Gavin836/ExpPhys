{
 "cells": [
  {
   "cell_type": "markdown",
   "metadata": {},
   "source": [
    "# Writing numbers with uncertainties\n",
    "\n",
    "In general, the uncertainty (or error) in a number should be quoted to 1 or 2 significant figures. If you use scientific notation, you can't go wrong. For example:\n",
    "\n",
    "$$1.23\\pm0.01\\times10^{-6}$$\n",
    "$$1.2300\\pm0.0017\\times10^{-6}$$\n",
    "\n",
    "Note how we quote the number and its uncertainty to the same number of digits after the decimal point. Note also that trailing zeroes are significant.\n",
    "\n",
    "The crucial point is that all the digits (both in the number and the uncertainty) need to be _significant_ in the sense that they convey useful information. It is very rarely justified to use more that 2 digits for the uncertainty, since the uncertainty itself is usually not that well determined.\n",
    "\n",
    "## Implied uncertainties\n",
    "\n",
    "If you don't explicitly indicate an uncertainty, then the _usual_ assumption is that the last digit has an error of $\\pm$0.5. The exception is with trailing zeroes before the decimal point. For example, 123 means $123.0\\pm0.5$, 120 means $120\\pm5$, 120.0 means $120.00\\pm0.05$.\n",
    "\n",
    "If you want to write a number such as 1200, where all the trailing zeroes are actually significant, then it is best to write $1.200\\times10^{3}$, else the assumption is that 1200 is $1200\\pm50$.\n",
    "\n",
    "Note that there is some ambiguity with implied uncertainties. For example, if someone told you that the temperature was 20C, then you would probably assume that the trailing zero _is_ significant. And if an aircraft is flying at 10,000 feet, it is probably in the range $10,000\\pm80$ feet.\n",
    "\n",
    "## Keeping digits in intermediate calculations\n",
    "\n",
    "It is acceptable to keep a few more digits in intermediate calculations, but just don't get too carried away.\n",
    "\n",
    "## Limits of measurement\n",
    "\n",
    "A common task is to measure a distance with a ruler with 1mm markings. In this case it is acceptable to write numbers such as $12\\pm0.5$mm. This is probably clearer than writing $12.0\\pm0.5$mm. With sufficient care though, it is possible to interpolate a ruler with 1mm markings to better than 1mm. If the ruler is a metal one, and the temperature is about 20C, then you may be justified in quoting a measurement to 0.1mm.\n",
    "\n",
    "## Unacceptable in a lab report\n",
    "\n",
    "\"The distance was 120mm.\" You should quote an uncertainty.\n",
    "\n",
    "\"The distance was $120.1\\pm0.2$, which is an error of 0.1665%.\" You can't quote 4 significant figures on the percentage error, when the error itself only has one significant figure.\n",
    "\n",
    "\"The distance was $120.12423\\pm0.16362$.\"  Too many digits.\n",
    "\n",
    "\"x = 1.23488282827.\" No uncertainty, and almost certainly too many digits.\n",
    "\n",
    "\"The mass of a fully loaded A380 aircraft is 560,000 kg. If we added a 120 gram weight to it, it would weigh 560,000.120 kg.\""
   ]
  },
  {
   "cell_type": "code",
   "execution_count": null,
   "metadata": {
    "collapsed": true
   },
   "outputs": [],
   "source": []
  }
 ],
 "metadata": {
  "anaconda-cloud": {},
  "kernelspec": {
   "display_name": "Python [conda root]",
   "language": "python",
   "name": "conda-root-py"
  },
  "language_info": {
   "codemirror_mode": {
    "name": "ipython",
    "version": 3
   },
   "file_extension": ".py",
   "mimetype": "text/x-python",
   "name": "python",
   "nbconvert_exporter": "python",
   "pygments_lexer": "ipython3",
   "version": "3.5.2"
  }
 },
 "nbformat": 4,
 "nbformat_minor": 1
}
