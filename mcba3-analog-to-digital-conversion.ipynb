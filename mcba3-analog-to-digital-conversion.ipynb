{
 "cells": [
  {
   "cell_type": "markdown",
   "metadata": {},
   "source": [
    "# Analog to digital conversion\n",
    "\n",
    "The real world tends to result in analog signals. We need to convert these to digital numbers in order to analyse the results of experiments using a computer.\n",
    "\n",
    "E.g., suppose that you have a voltage that ranges between 0 and 10V. How do you represent this voltage as a digital number?\n",
    "\n",
    "Converting from analog to digital implicitly means that there is some minimum delta in the analog signal that corresponds to a change of 1 in the digital number. So, one of the first decisions to make is: *what is the minimum delta that you need to resolve?* E.g., if the analog signal 0.00V is assigned the digital number 0, and your resolution is 0.01V, then 10.00 will correspond to a digital number 1000.\n",
    "\n",
    "Computers use binary (base 2) arithmetic internally, so it makes sense to think of *the number of bits (binary digits)* for an analog to digital conversion. E.g., $1024=2^{10}$ so an analog to digital conversion that ranges from 0 to 1000 requires a 10 bit binary number to represent the result. In fact, with 10 bits we can range from 0 (binary 0000000000) to 1023 (binary 1111111111). \n",
    "\n",
    "To represent negative numbers we often use the most significant bit (MSB) as a sign bit. However, noting that 1000000000 would be the same as 0000000000, thereby wasting a number, we use so-called \"2s complement binary\", where, e.g., 1111111111 is -512, 1000000000 is -1, and 0000000000 is zero, and 0111111111 is +511.\n",
    "\n",
    "## Types of analog to digital converters\n",
    "\n",
    "### Flash converters\n",
    "\n",
    "Flash converters are the easiest to understand. The input analog voltage is compared to voltages generated using a resistive voltage divider. The comparisons are done in parallel (i.e., all at the same time) by a series of voltage comparators (these are the triangular symbols in the circuit diagram below; they produce a 0 or 1 output depending on whether the input voltage connected to the +ve terminal is less than or greater than the comparison voltage on the -ve terminal). You need one comparator for every possible digital number. The output of the comparators is then examined by a logic circuit to generate the binary number.\n",
    "\n",
    "![](http://mcba11.phys.unsw.edu.au/~mcba/phys3112/adc-flash.gif)\n",
    "\n",
    "In practice, the logic circuit is a bit smarter than just detecting the highest numbered comparator that has a 1 output. For example:\n",
    "\n",
    "![](http://mcba11.phys.unsw.edu.au/~mcba/phys3112/Flash_ADC.png)\n",
    "\n",
    "Flash converters can be very fast (since $2^n$ comparisons are made in the same time it takes to make one comparison), but also relatively expensive (since you need $2^n$ comparators). They tend to be used when very high-speed, but low-resolution, digitisation is needed.\n",
    "\n",
    "### Successive approximate ADC\n",
    "\n",
    "The following figure (by White Flye - Own work, CC BY-SA 2.5) shows a successive approximation ADC.\n",
    "\n",
    "![](http://mcba11.phys.unsw.edu.au/~mcba/phys3112/SA_ADC_block_diagram.png)\n",
    "\n",
    "Vin in the input voltage to be digitised. Vref is a stable reference voltage that sets the maximum output of the DAC. SAR is the successive approximation register. S/H is a sample and hold amplifier. DAC is a digital to analog converter. \"Clock\" is a square wave oscillation that sets the time interval for one comparison between the sampled input signal and the DAC output.\n",
    "\n",
    "See if you can work out how it works.\n",
    "\n",
    "For notes on analog to digital conversion [read this](http://www.analog.com/media/en/training-seminars/design-handbooks/Data-Conversion-Handbook/Chapter2.pdf).\n",
    "\n",
    "### Some interesting aspects of ADCs\n",
    "\n",
    "Discussed in lectures but not described in these notes:\n",
    "\n",
    "- monotonicity; important for servo systems\n",
    "- bit errors can introduce large errors\n",
    "- subtle errors that correlate with certain digital outputs. See [this very interesting paper](https://arxiv.org/pdf/1802.06914.pdf) on how this can affect astronomical CCD images.\n",
    "\n",
    "### Adding noise to improve resolution\n",
    "\n",
    "Suppose that you have a perfect 8-bit ADC, and a perfectly stable analog signal. The ADC will then always give the same digital number. Now, if you add a bit or two of gaussian noise to the signal, the ADC output will vary  by a bit or two. Why would you want to do that? Well, if you examine a large number of samples, you can fit a gaussian profile to the distribution, and find the centre of the gaussian to much less that one bit of precision. \n",
    "\n",
    "So, somewhat paradoxically, by adding noise to your signal, you have improved the precision (and possibly the accuracy) of the digital conversion. \n",
    "\n",
    "Whether this technique is a good idea in practice depends on many details. E.g., if you want the best estimate of a rapidly varying signal, you are better off not adding noise. But if the ADC is much faster than the signal variations of interest, then adding noise can effectively give you additional bits of resolution. As an example, I once used this technique to increase the precision of a temperature measurement, and was able to divide each least significant bit (LSB) of an ADC by 64 (i.e., I added an additional 6 bits of resolution to an 8-bit ADC). While I make no claims about the *accuracy* of the resulting digital temperature, the extra *precision* was very useful in detecting temperature trends, which is what I was particularly interested in."
   ]
  },
  {
   "cell_type": "code",
   "execution_count": null,
   "metadata": {
    "collapsed": true
   },
   "outputs": [],
   "source": []
  }
 ],
 "metadata": {
  "anaconda-cloud": {},
  "kernelspec": {
   "display_name": "Python [conda root]",
   "language": "python",
   "name": "conda-root-py"
  },
  "language_info": {
   "codemirror_mode": {
    "name": "ipython",
    "version": 3
   },
   "file_extension": ".py",
   "mimetype": "text/x-python",
   "name": "python",
   "nbconvert_exporter": "python",
   "pygments_lexer": "ipython3",
   "version": "3.5.2"
  }
 },
 "nbformat": 4,
 "nbformat_minor": 1
}
